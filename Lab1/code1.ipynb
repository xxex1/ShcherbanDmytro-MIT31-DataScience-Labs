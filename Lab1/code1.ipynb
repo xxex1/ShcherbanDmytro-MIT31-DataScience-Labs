{
 "cells": [
  {
   "cell_type": "code",
   "execution_count": 1,
   "id": "da639620",
   "metadata": {},
   "outputs": [
    {
     "name": "stdout",
     "output_type": "stream",
     "text": [
      "Hello, Dmytro!\n"
     ]
    }
   ],
   "source": [
    "name = input(\"Введіть ваше ім'я: \")\n",
    "print(f\"Hello, {name}!\")"
   ]
  },
  {
   "cell_type": "markdown",
   "id": "40d67f8d",
   "metadata": {},
   "source": [
    "Призначення Jupyter Notebook\n",
    "Jupyter Notebook — це інтерактивне середовище, яке дозволяє писати та виконувати покроково код, створювати візуалізації та робити нотатки у форматі Markdown. \n",
    "Зручно для навчання, досліджень та аналізу даних.\n"
   ]
  },
  {
   "cell_type": "code",
   "execution_count": 1,
   "id": "11c10c2d",
   "metadata": {},
   "outputs": [],
   "source": [
    "import numpy as np"
   ]
  },
  {
   "cell_type": "code",
   "execution_count": 2,
   "id": "ab858398",
   "metadata": {},
   "outputs": [
    {
     "name": "stdout",
     "output_type": "stream",
     "text": [
      "Масив випадкових чисел: [0.13355474 0.1675939  0.43309213 0.73807905 0.66645642 0.36895114\n",
      " 0.50280227 0.65982199 0.78441158 0.51768456]\n"
     ]
    }
   ],
   "source": [
    "arr = np.random.rand(10)\n",
    "print(\"Масив випадкових чисел:\", arr)"
   ]
  },
  {
   "cell_type": "code",
   "execution_count": 3,
   "id": "61c78a23",
   "metadata": {},
   "outputs": [
    {
     "name": "stdout",
     "output_type": "stream",
     "text": [
      "Середнє значення масиву: 0.4972447782765085\n"
     ]
    }
   ],
   "source": [
    "mean_value = np.mean(arr)\n",
    "print(\"Середнє значення масиву:\", mean_value)"
   ]
  },
  {
   "cell_type": "code",
   "execution_count": null,
   "id": "2c44bd24",
   "metadata": {},
   "outputs": [],
   "source": []
  }
 ],
 "metadata": {
  "kernelspec": {
   "display_name": "Python 3",
   "language": "python",
   "name": "python3"
  },
  "language_info": {
   "codemirror_mode": {
    "name": "ipython",
    "version": 3
   },
   "file_extension": ".py",
   "mimetype": "text/x-python",
   "name": "python",
   "nbconvert_exporter": "python",
   "pygments_lexer": "ipython3",
   "version": "3.13.7"
  }
 },
 "nbformat": 4,
 "nbformat_minor": 5
}
