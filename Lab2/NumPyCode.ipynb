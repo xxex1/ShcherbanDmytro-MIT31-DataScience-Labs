{
 "cells": [
  {
   "cell_type": "code",
   "execution_count": 1,
   "id": "22178640",
   "metadata": {},
   "outputs": [],
   "source": [
    "import numpy as np\n"
   ]
  },
  {
   "cell_type": "code",
   "execution_count": 2,
   "id": "80879b45",
   "metadata": {},
   "outputs": [
    {
     "name": "stdout",
     "output_type": "stream",
     "text": [
      "Scalar: 7\n",
      "Vector: [0 1 2 3 4 5 6 7 8 9]\n",
      "Matrix:\n",
      " [[0.5488135  0.71518937 0.60276338 0.54488318 0.4236548 ]\n",
      " [0.64589411 0.43758721 0.891773   0.96366276 0.38344152]\n",
      " [0.79172504 0.52889492 0.56804456 0.92559664 0.07103606]\n",
      " [0.0871293  0.0202184  0.83261985 0.77815675 0.87001215]]\n"
     ]
    }
   ],
   "source": [
    "scalar = np.array(7)\n",
    "print(\"Scalar:\", scalar)\n",
    "\n",
    "vector = np.arange(10)\n",
    "print(\"Vector:\", vector)\n",
    "\n",
    "np.random.seed(0)  \n",
    "matrix = np.random.rand(4, 5)\n",
    "print(\"Matrix:\\n\", matrix)\n"
   ]
  },
  {
   "cell_type": "code",
   "execution_count": 3,
   "id": "757cf4ab",
   "metadata": {},
   "outputs": [
    {
     "name": "stdout",
     "output_type": "stream",
     "text": [
      "Scalar value: 7\n",
      "First element vector[0]: 0\n",
      "Slice vector[2:6]: [2 3 4 5]\n",
      "Even elements: [0 2 4 6 8]\n",
      "Matrix element [1,2]: 0.8917730007820798\n",
      "Matrix row 1: [0.64589411 0.43758721 0.891773   0.96366276 0.38344152]\n",
      "Matrix column 2: [0.60276338 0.891773   0.56804456 0.83261985]\n",
      "Submatrix rows 1..2, cols 2..4:\n",
      " [[0.891773   0.96366276 0.38344152]\n",
      " [0.56804456 0.92559664 0.07103606]]\n"
     ]
    }
   ],
   "source": [
    "print(\"Scalar value:\", scalar.item())\n",
    "print(\"First element vector[0]:\", vector[0])\n",
    "print(\"Slice vector[2:6]:\", vector[2:6])\n",
    "print(\"Even elements:\", vector[vector % 2 == 0])\n",
    "\n",
    "print(\"Matrix element [1,2]:\", matrix[1,2])\n",
    "print(\"Matrix row 1:\", matrix[1])\n",
    "print(\"Matrix column 2:\", matrix[:,2])\n",
    "print(\"Submatrix rows 1..2, cols 2..4:\\n\", matrix[1:3, 2:5])\n"
   ]
  },
  {
   "cell_type": "code",
   "execution_count": 4,
   "id": "ad6b37f7",
   "metadata": {},
   "outputs": [
    {
     "name": "stdout",
     "output_type": "stream",
     "text": [
      "Updated scalar: 42\n",
      "Vector after update: [ 0  1  2 99  4  5  6  7  8  9]\n",
      "Vector after replacing odd values: [ 0 -1  2 -1  4 -1  6 -1  8 -1]\n",
      "Matrix after update:\n",
      " [[-0.5         0.71518937  0.60276338  0.54488318  0.4236548 ]\n",
      " [ 0.64589411  0.43758721  0.891773    0.96366276  0.38344152]\n",
      " [ 0.79172504  0.52889492  0.56804456  0.92559664  0.07103606]\n",
      " [ 0.0871293   0.0202184   0.83261985  0.77815675  0.87001215]]\n",
      "Matrix after normalizing column 0:\n",
      " [[-1.4836671   0.71518937  0.60276338  0.54488318  0.4236548 ]\n",
      " [ 0.76461955  0.43758721  0.891773    0.96366276  0.38344152]\n",
      " [ 1.05074523  0.52889492  0.56804456  0.92559664  0.07103606]\n",
      " [-0.33169768  0.0202184   0.83261985  0.77815675  0.87001215]]\n"
     ]
    }
   ],
   "source": [
    "scalar[...] = 42\n",
    "print(\"Updated scalar:\", scalar)\n",
    "\n",
    "vector[3] = 99\n",
    "print(\"Vector after update:\", vector)\n",
    "\n",
    "vector[vector % 2 == 1] = -1\n",
    "print(\"Vector after replacing odd values:\", vector)\n",
    "\n",
    "matrix[0,0] = -0.5\n",
    "print(\"Matrix after update:\\n\", matrix)\n",
    "\n",
    "col0 = matrix[:,0]\n",
    "matrix[:,0] = (col0 - col0.mean()) / col0.std()\n",
    "print(\"Matrix after normalizing column 0:\\n\", matrix)\n"
   ]
  },
  {
   "cell_type": "code",
   "execution_count": 5,
   "id": "8a779fa9",
   "metadata": {},
   "outputs": [
    {
     "name": "stdout",
     "output_type": "stream",
     "text": [
      "Deleted scalar (set NaN): nan\n",
      "Vector after delete: [ 0 -1  2  4 -1  6 -1  8 -1]\n",
      "Matrix with row 2 removed:\n",
      " [[-1.4836671   0.71518937  0.60276338  0.54488318  0.4236548 ]\n",
      " [ 0.76461955  0.43758721  0.891773    0.96366276  0.38344152]\n",
      " [-0.33169768  0.0202184   0.83261985  0.77815675  0.87001215]]\n",
      "Matrix with column 1 removed:\n",
      " [[-1.4836671   0.60276338  0.54488318  0.4236548 ]\n",
      " [ 0.76461955  0.891773    0.96366276  0.38344152]\n",
      " [ 1.05074523  0.56804456  0.92559664  0.07103606]\n",
      " [-0.33169768  0.83261985  0.77815675  0.87001215]]\n"
     ]
    }
   ],
   "source": [
    "scalar = scalar.astype(float)\n",
    "scalar[...] = np.nan\n",
    "print(\"Deleted scalar (set NaN):\", scalar)\n",
    "\n",
    "vector2 = np.delete(vector, 3)\n",
    "print(\"Vector after delete:\", vector2)\n",
    "\n",
    "matrix_row_removed = np.delete(matrix, 2, axis=0)\n",
    "matrix_col_removed = np.delete(matrix, 1, axis=1)\n",
    "\n",
    "print(\"Matrix with row 2 removed:\\n\", matrix_row_removed)\n",
    "print(\"Matrix with column 1 removed:\\n\", matrix_col_removed)\n"
   ]
  },
  {
   "cell_type": "code",
   "execution_count": null,
   "id": "a1017008",
   "metadata": {},
   "outputs": [],
   "source": []
  }
 ],
 "metadata": {
  "kernelspec": {
   "display_name": "Python 3",
   "language": "python",
   "name": "python3"
  },
  "language_info": {
   "codemirror_mode": {
    "name": "ipython",
    "version": 3
   },
   "file_extension": ".py",
   "mimetype": "text/x-python",
   "name": "python",
   "nbconvert_exporter": "python",
   "pygments_lexer": "ipython3",
   "version": "3.13.7"
  }
 },
 "nbformat": 4,
 "nbformat_minor": 5
}
