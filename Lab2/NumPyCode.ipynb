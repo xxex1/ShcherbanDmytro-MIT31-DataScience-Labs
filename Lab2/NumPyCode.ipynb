{
 "cells": [
  {
   "cell_type": "code",
   "execution_count": 1,
   "id": "73a87b81",
   "metadata": {},
   "outputs": [],
   "source": [
    "import numpy as np"
   ]
  },
  {
   "cell_type": "code",
   "execution_count": 2,
   "id": "8c3d2ca1",
   "metadata": {},
   "outputs": [
    {
     "name": "stdout",
     "output_type": "stream",
     "text": [
      "Лінійні дані: [0 1 2 3 4 5 6 7 8 9]\n"
     ]
    }
   ],
   "source": [
    "linear_data = np.arange(0, 10)\n",
    "print(\"Лінійні дані:\", linear_data)"
   ]
  },
  {
   "cell_type": "code",
   "execution_count": 3,
   "id": "1944e8ce",
   "metadata": {},
   "outputs": [
    {
     "name": "stdout",
     "output_type": "stream",
     "text": [
      "Випадкові дані: [0.0154649  0.1897193  0.93035385 0.45201954 0.22850672 0.40817322\n",
      " 0.52351168 0.15901615 0.63771571 0.62816609]\n"
     ]
    }
   ],
   "source": [
    "random_data = np.random.rand(10)\n",
    "print(\"Випадкові дані:\", random_data)"
   ]
  },
  {
   "cell_type": "code",
   "execution_count": 4,
   "id": "ce809b57",
   "metadata": {},
   "outputs": [
    {
     "name": "stdout",
     "output_type": "stream",
     "text": [
      "Перший елемент (linear): 0\n",
      "Останній елемент (random): 0.6281660874263622\n"
     ]
    }
   ],
   "source": [
    "print(\"Перший елемент (linear):\", linear_data[0])\n",
    "print(\"Останній елемент (random):\", random_data[-1])"
   ]
  },
  {
   "cell_type": "code",
   "execution_count": 5,
   "id": "f37e3e90",
   "metadata": {},
   "outputs": [
    {
     "name": "stdout",
     "output_type": "stream",
     "text": [
      "Після оновлення: [ 0  1 99  3  4  5  6  7  8  9]\n"
     ]
    }
   ],
   "source": [
    "linear_data[2] = 99\n",
    "print(\"Після оновлення:\", linear_data)"
   ]
  },
  {
   "cell_type": "code",
   "execution_count": 6,
   "id": "baf5a54c",
   "metadata": {},
   "outputs": [
    {
     "name": "stdout",
     "output_type": "stream",
     "text": [
      "Після видалення елемента: [0.0154649  0.1897193  0.93035385 0.45201954 0.40817322 0.52351168\n",
      " 0.15901615 0.63771571 0.62816609]\n"
     ]
    }
   ],
   "source": [
    "random_data_deleted = np.delete(random_data, 4)\n",
    "print(\"Після видалення елемента:\", random_data_deleted)"
   ]
  },
  {
   "cell_type": "code",
   "execution_count": 7,
   "id": "35ee5730",
   "metadata": {},
   "outputs": [
    {
     "data": {
      "text/plain": [
       "array([ 0,  1, 99,  3,  4,  5,  6,  7,  8,  9])"
      ]
     },
     "execution_count": 7,
     "metadata": {},
     "output_type": "execute_result"
    }
   ],
   "source": [
    "linear_data"
   ]
  },
  {
   "cell_type": "code",
   "execution_count": 8,
   "id": "a09e99fd",
   "metadata": {},
   "outputs": [
    {
     "data": {
      "text/plain": [
       "array([0.0154649 , 0.1897193 , 0.93035385, 0.45201954, 0.22850672,\n",
       "       0.40817322, 0.52351168, 0.15901615, 0.63771571, 0.62816609])"
      ]
     },
     "execution_count": 8,
     "metadata": {},
     "output_type": "execute_result"
    }
   ],
   "source": [
    "random_data"
   ]
  },
  {
   "cell_type": "code",
   "execution_count": 9,
   "id": "979a12d3",
   "metadata": {},
   "outputs": [
    {
     "data": {
      "text/plain": [
       "array([0.0154649 , 0.1897193 , 0.93035385, 0.45201954, 0.40817322,\n",
       "       0.52351168, 0.15901615, 0.63771571, 0.62816609])"
      ]
     },
     "execution_count": 9,
     "metadata": {},
     "output_type": "execute_result"
    }
   ],
   "source": [
    "random_data_deleted"
   ]
  },
  {
   "cell_type": "code",
   "execution_count": null,
   "id": "22178640",
   "metadata": {},
   "outputs": [],
   "source": []
  }
 ],
 "metadata": {
  "kernelspec": {
   "display_name": "Python 3",
   "language": "python",
   "name": "python3"
  },
  "language_info": {
   "codemirror_mode": {
    "name": "ipython",
    "version": 3
   },
   "file_extension": ".py",
   "mimetype": "text/x-python",
   "name": "python",
   "nbconvert_exporter": "python",
   "pygments_lexer": "ipython3",
   "version": "3.13.7"
  }
 },
 "nbformat": 4,
 "nbformat_minor": 5
}
