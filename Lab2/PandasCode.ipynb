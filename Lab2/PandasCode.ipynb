{
 "cells": [
  {
   "cell_type": "code",
   "execution_count": 1,
   "id": "cf9e717e",
   "metadata": {},
   "outputs": [],
   "source": [
    "import pandas as pd\n",
    "import numpy as np"
   ]
  },
  {
   "cell_type": "code",
   "execution_count": null,
   "id": "c9dd6e51",
   "metadata": {},
   "outputs": [
    {
     "name": "stdout",
     "output_type": "stream",
     "text": [
      "DataFrame з NumPy:\n",
      "   A   B   C\n",
      "0  0   1   2\n",
      "1  3   4   5\n",
      "2  6   7   8\n",
      "3  9  10  11 \n",
      "\n"
     ]
    }
   ],
   "source": [
    "data_np = np.arange(12).reshape(4, 3) \n",
    "df_from_numpy = pd.DataFrame(data_np, columns=[\"A\", \"B\", \"C\"])\n",
    "print(\"DataFrame з NumPy:\")\n",
    "print(df_from_numpy, \"\\n\")"
   ]
  },
  {
   "cell_type": "code",
   "execution_count": 5,
   "id": "29c22a33",
   "metadata": {},
   "outputs": [
    {
     "name": "stdout",
     "output_type": "stream",
     "text": [
      "DataFrame зі словника:\n",
      "     Name  Age     City\n",
      "0    Olga   25     Kyiv\n",
      "1  Dmytro   30     Lviv\n",
      "2   Iryna   22  Kharkiv\n",
      "3    Oleh   28    Odesa \n",
      "\n"
     ]
    }
   ],
   "source": [
    "data_dict = {\n",
    "    \"Name\": [\"Olga\", \"Dmytro\", \"Iryna\", \"Oleh\"],\n",
    "    \"Age\": [25, 30, 22, 28],\n",
    "    \"City\": [\"Kyiv\", \"Lviv\", \"Kharkiv\", \"Odesa\"]\n",
    "}\n",
    "df_from_dict = pd.DataFrame(data_dict)\n",
    "print(\"DataFrame зі словника:\")\n",
    "print(df_from_dict, \"\\n\")"
   ]
  },
  {
   "cell_type": "code",
   "execution_count": 6,
   "id": "869084aa",
   "metadata": {},
   "outputs": [
    {
     "name": "stdout",
     "output_type": "stream",
     "text": [
      "head():\n",
      "     Name  Age  City\n",
      "0    Olga   25  Kyiv\n",
      "1  Dmytro   30  Lviv \n",
      "\n"
     ]
    }
   ],
   "source": [
    "print(\"head():\")\n",
    "print(df_from_dict.head(2), \"\\n\")"
   ]
  },
  {
   "cell_type": "code",
   "execution_count": 7,
   "id": "e57fd3aa",
   "metadata": {},
   "outputs": [
    {
     "name": "stdout",
     "output_type": "stream",
     "text": [
      "describe():\n",
      "        Name    Age  City\n",
      "count      4   4.00     4\n",
      "unique     4    NaN     4\n",
      "top     Olga    NaN  Kyiv\n",
      "freq       1    NaN     1\n",
      "mean     NaN  26.25   NaN\n",
      "std      NaN   3.50   NaN\n",
      "min      NaN  22.00   NaN\n",
      "25%      NaN  24.25   NaN\n",
      "50%      NaN  26.50   NaN\n",
      "75%      NaN  28.50   NaN\n",
      "max      NaN  30.00   NaN \n",
      "\n"
     ]
    }
   ],
   "source": [
    "print(\"describe():\")\n",
    "print(df_from_dict.describe(include=\"all\"), \"\\n\")"
   ]
  },
  {
   "cell_type": "code",
   "execution_count": 8,
   "id": "e7dac04d",
   "metadata": {},
   "outputs": [
    {
     "name": "stdout",
     "output_type": "stream",
     "text": [
      "iloc[1, 0] -> Dmytro\n"
     ]
    }
   ],
   "source": [
    "print(\"iloc[1, 0] ->\", df_from_dict.iloc[1, 0])"
   ]
  },
  {
   "cell_type": "code",
   "execution_count": 9,
   "id": "fbbff256",
   "metadata": {},
   "outputs": [
    {
     "name": "stdout",
     "output_type": "stream",
     "text": [
      "loc[2, 'City'] -> Kharkiv\n"
     ]
    }
   ],
   "source": [
    "print(\"loc[2, 'City'] ->\", df_from_dict.loc[2, \"City\"])"
   ]
  },
  {
   "cell_type": "code",
   "execution_count": null,
   "id": "f20cb99f",
   "metadata": {},
   "outputs": [],
   "source": []
  }
 ],
 "metadata": {
  "kernelspec": {
   "display_name": "Python 3",
   "language": "python",
   "name": "python3"
  },
  "language_info": {
   "codemirror_mode": {
    "name": "ipython",
    "version": 3
   },
   "file_extension": ".py",
   "mimetype": "text/x-python",
   "name": "python",
   "nbconvert_exporter": "python",
   "pygments_lexer": "ipython3",
   "version": "3.13.7"
  }
 },
 "nbformat": 4,
 "nbformat_minor": 5
}
